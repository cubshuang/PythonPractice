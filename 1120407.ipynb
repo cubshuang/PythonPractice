{
  "nbformat": 4,
  "nbformat_minor": 0,
  "metadata": {
    "colab": {
      "provenance": [],
      "authorship_tag": "ABX9TyMelDZc4+ipQy2LPUspn8VN",
      "include_colab_link": true
    },
    "kernelspec": {
      "name": "python3",
      "display_name": "Python 3"
    },
    "language_info": {
      "name": "python"
    }
  },
  "cells": [
    {
      "cell_type": "markdown",
      "metadata": {
        "id": "view-in-github",
        "colab_type": "text"
      },
      "source": [
        "<a href=\"https://colab.research.google.com/github/cubshuang/PythonPractice/blob/master/1120407.ipynb\" target=\"_parent\"><img src=\"https://colab.research.google.com/assets/colab-badge.svg\" alt=\"Open In Colab\"/></a>"
      ]
    },
    {
      "cell_type": "markdown",
      "source": [
        "台鐵火車時刻表依車站"
      ],
      "metadata": {
        "id": "NQjM2hSslDf7"
      }
    },
    {
      "cell_type": "code",
      "source": [
        "import pandas as pd\n",
        "import urllib.request as req\n",
        "import requests as reqs\n",
        "#from html.parser import HTMLParser\n",
        "\n",
        "url=\"https://tip.railway.gov.tw/tra-tip-web/tip/tip001/tip112/querybystationblank?rideDate=2023/04/08&station=4440-鳳山\"\n",
        "response=reqs.get(url)\n",
        "tml_str = response.text\n",
        "#tml_str\n",
        "\n",
        "try:\n",
        "    tra = pd.read_html(tml_str)\n",
        "    print(\"型態：\", type(tra))\n",
        "    print(\"長度：\", len(tra))\n",
        "#tra\n",
        "    tra_1_df = tra[0]  #讀取第一個表格\n",
        "    tra_1_df.columns \n",
        "    print(tra_1_df)\n",
        "except:    \n",
        "    print(\"讀取班表資料有誤\")\n",
        "\n"
      ],
      "metadata": {
        "id": "T2niYtT3lFF9",
        "colab": {
          "base_uri": "https://localhost:8080/"
        },
        "outputId": "f108bb88-3dfc-41d9-d783-d8bf083c1569"
      },
      "execution_count": 11,
      "outputs": [
        {
          "output_type": "stream",
          "name": "stdout",
          "text": [
            "型態： <class 'list'>\n",
            "長度： 2\n",
            "    項次               車種車次 (始發站 → 終點站)   出發時間  終點站  \\\n",
            "0    1        區間3122  (  屏東  →  嘉義  )  05:17   嘉義   \n",
            "1    2        區間3128  (  潮州  →  后里  )  05:32   后里   \n",
            "2    3         自強182  (  潮州  →  花蓮  )  05:41   花蓮   \n",
            "3    4         自強108  (  潮州  →  七堵  )  05:51   七堵   \n",
            "4    5        區間3132  (  潮州  →  嘉義  )  06:04   嘉義   \n",
            "..  ..                            ...    ...  ...   \n",
            "87  88       普悠瑪328  (  臺東  →  新左營  )  22:09  新左營   \n",
            "88  89        區間3292  (  潮州  →  臺南  )  22:20   臺南   \n",
            "89  90        區間3294  (  潮州  →  臺南  )  22:38   臺南   \n",
            "90  91  自強(3000)434  (  樹林  →  新左營  )  22:50  新左營   \n",
            "91  92       區間3348  (  枋寮  →  新左營  )  23:31  新左營   \n",
            "\n",
            "                                                 服務設施   狀態  \n",
            "0                                               每日行駛。   準點  \n",
            "1                                               每日行駛。   準點  \n",
            "2   逢週六行駛。本班次第12車為親子車廂，不發售無座票，非持親子車廂車票旅客，或不符合親子、孕婦...   準點  \n",
            "3                                              逢週日停駛。   準點  \n",
            "4                                               每日行駛。   準點  \n",
            "..                                                ...  ...  \n",
            "87                     每日行駛。本班次不發售無座票，非持本班次車票旅客，請勿搭乘。  NaN  \n",
            "88                                              每日行駛。  NaN  \n",
            "89                                              每日行駛。  NaN  \n",
            "90  每日行駛。花蓮民眾實名優先購票班次，乘車時須準備登載個人身份證字號之證件。 本列次不發售無座...  NaN  \n",
            "91                                              每日行駛。  NaN  \n",
            "\n",
            "[92 rows x 6 columns]\n"
          ]
        }
      ]
    }
  ]
}