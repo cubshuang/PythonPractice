{
  "nbformat": 4,
  "nbformat_minor": 0,
  "metadata": {
    "colab": {
      "provenance": [],
      "authorship_tag": "ABX9TyOjemk9Nmv5rZ+pywbn9Ztk",
      "include_colab_link": true
    },
    "kernelspec": {
      "name": "python3",
      "display_name": "Python 3"
    },
    "language_info": {
      "name": "python"
    }
  },
  "cells": [
    {
      "cell_type": "markdown",
      "metadata": {
        "id": "view-in-github",
        "colab_type": "text"
      },
      "source": [
        "<a href=\"https://colab.research.google.com/github/cubshuang/PythonPractice/blob/master/1120407.ipynb\" target=\"_parent\"><img src=\"https://colab.research.google.com/assets/colab-badge.svg\" alt=\"Open In Colab\"/></a>"
      ]
    },
    {
      "cell_type": "markdown",
      "source": [
        "台鐵火車時刻表依車站"
      ],
      "metadata": {
        "id": "NQjM2hSslDf7"
      }
    },
    {
      "cell_type": "code",
      "source": [
        "import pandas as pd\n",
        "import urllib.request as req\n",
        "import requests as reqs\n",
        "#from html.parser import HTMLParser\n",
        "\n",
        "\n",
        "url=\"https://tip.railway.gov.tw/tra-tip-web/tip/tip001/tip112/querybystationblank?rideDate=2023/04/08&station=4440-鳳山\"\n",
        "# url_NS\"https://tip.railway.gov.tw/tra-tip-web/tip/tip001/tip112/querybystationblank?rideDate=2023/04/10&station=5000-屏東\"\n",
        "\n",
        "response=reqs.get(url)\n",
        "tml_str = response.text\n",
        "#tml_str\n",
        "\n",
        "try:\n",
        "    tra = pd.read_html(tml_str)\n",
        "    # print(\"型態：\", type(tra))\n",
        "    # print(\"長度：\", len(tra))\n",
        "#tra\n",
        "    tra_1_df = tra[0]  #讀取第一個表格\n",
        "    tra_1_df.columns \n",
        "    print(tra_1_df.columns)\n",
        "    # t1=tra_1_df[tra_1_df['狀態'].notna()]\n",
        "    # print(t1)\n",
        "    # print(tra_1_df)\n",
        "except:    \n",
        "    print(\"讀取班表資料有誤\")\n",
        "\n"
      ],
      "metadata": {
        "id": "T2niYtT3lFF9",
        "colab": {
          "base_uri": "https://localhost:8080/"
        },
        "outputId": "3a79bbe0-8868-4ac7-d2fc-75d9b9dde8a9"
      },
      "execution_count": 1,
      "outputs": [
        {
          "output_type": "stream",
          "name": "stdout",
          "text": [
            "Index(['項次', '車種車次 (始發站 → 終點站)', '出發時間', '終點站', '服務設施', '狀態'], dtype='object')\n"
          ]
        }
      ]
    },
    {
      "cell_type": "code",
      "source": [
        "# t11 = tra_1_df[['車種車次 (始發站 → 終點站)','出發時間', '狀態']]\n",
        "# t11.rename(columns = {'車種車次 (始發站 → 終點站)':'車種車次'}, inplace = True)\n",
        "# print(t11)"
      ],
      "metadata": {
        "id": "ywOROZ7WXK4n"
      },
      "execution_count": null,
      "outputs": []
    },
    {
      "cell_type": "code",
      "source": [
        "from datetime import datetime\n",
        "#ss = [t11['車種車次'].str.split(' ').str[0],t11['出發時間'],t11['狀態']]\n",
        "ss = pd.DataFrame({'車種車次':tra_1_df['車種車次 (始發站 → 終點站)'].str.split(' ').str[0]\n",
        "                   ,'出發時間':tra_1_df['出發時間']\n",
        "                   #,'出發時間1': datetime(2023, 4, 7, tra_1_df['出發時間'].str.split(':').str[0],tra_1_df['出發時間'].str.split(':').str[1] , 0)\n",
        "                   ,'狀態':tra_1_df['狀態']\n",
        "                   ,'服務設施':tra_1_df['服務設施']\n",
        "                   })\n",
        "print(ss)\n",
        "\n",
        "#pd.concat([ss,t11])\n",
        "\n"
      ],
      "metadata": {
        "colab": {
          "base_uri": "https://localhost:8080/"
        },
        "id": "2C1rRcNnpFcH",
        "outputId": "a32b66c3-15a8-482d-85e5-27d03cf7ff6a"
      },
      "execution_count": 5,
      "outputs": [
        {
          "output_type": "stream",
          "name": "stdout",
          "text": [
            "           車種車次   出發時間  狀態                                               服務設施\n",
            "0        區間3122  05:17  準點                                              每日行駛。\n",
            "1        區間3128  05:32  準點                                              每日行駛。\n",
            "2         自強182  05:41  準點  逢週六行駛。本班次第12車為親子車廂，不發售無座票，非持親子車廂車票旅客，或不符合親子、孕婦...\n",
            "3         自強108  05:51  準點                                             逢週日停駛。\n",
            "4        區間3132  06:04  準點                                              每日行駛。\n",
            "..          ...    ...  ..                                                ...\n",
            "87       普悠瑪328  22:09  準點                     每日行駛。本班次不發售無座票，非持本班次車票旅客，請勿搭乘。\n",
            "88       區間3292  22:20  準點                                              每日行駛。\n",
            "89       區間3294  22:38  準點                                              每日行駛。\n",
            "90  自強(3000)434  22:50  準點  每日行駛。花蓮民眾實名優先購票班次，乘車時須準備登載個人身份證字號之證件。 本列次不發售無座...\n",
            "91       區間3348  23:31  準點                                              每日行駛。\n",
            "\n",
            "[92 rows x 4 columns]\n"
          ]
        }
      ]
    },
    {
      "cell_type": "code",
      "source": [
        "import pandas as pd\n",
        "import urllib.request as req\n",
        "import requests as reqs\n",
        "from datetime import date\n",
        "\n",
        "#處理日期\n",
        "dt_str = date.today().strftime(\"%Y/%m/%d\")\n",
        "\n",
        "st_North = \"4440-鳳山\"\n",
        "st_South = \"5000-屏東\"\n",
        "\n",
        "#dt_str = \"2023/04/10\"\n",
        "url_N=\"https://tip.railway.gov.tw/tra-tip-web/tip/tip001/tip112/querybystationblank?rideDate=\" + dt_str + \"&station=\" + st_North\n",
        "url_S=\"https://tip.railway.gov.tw/tra-tip-web/tip/tip001/tip112/querybystationblank?rideDate=\" + dt_str + \"&station=\" + st_South\n",
        "\n",
        "# response = reqs.get(url_N)\n",
        "# tml_str = response.text\n",
        "\n",
        "#順行目的\n",
        "#逆行目的\n",
        "try:\n",
        "    # tra = pd.read_html(tml_str)\n",
        "    traN = pd.read_html(reqs.get(url_N).text)\n",
        "    traN_1 = tra[0]  #讀取第一個表格-順行\n",
        "    traN_2 = tra[1]  #讀取第二個表格-逆行\n",
        "\n",
        "    traS = pd.read_html(reqs.get(url_S).text)\n",
        "    traS_1 = tra[0]  #讀取第一個表格-順行\n",
        "    traS_2 = tra[1]  #讀取第二個表格-逆行\n",
        "\n",
        "    # print(traN_1.columns)\n",
        "    # print(traN_2.columns)\n",
        "    # t1=tra_1_df[tra_1_df['狀態'].notna()]\n",
        "    # print(t1)\n",
        "    print(st_North + \"順行\")\n",
        "    print(traN_1)\n",
        "    print(st_North + \"逆行\")\n",
        "    print(traN_2)\n",
        "    print(st_South + \"順行\")\n",
        "    print(traS_1)\n",
        "    print(st_South + \"逆行\")\n",
        "    print(traS_2)\n",
        "except:    \n",
        "    print(\"讀取班表資料有誤\")\n",
        "\n",
        "\n",
        "\n",
        "\n"
      ],
      "metadata": {
        "id": "q9s655aZLNB4",
        "outputId": "dbc00f94-4500-40eb-d9aa-6381018c22a3",
        "colab": {
          "base_uri": "https://localhost:8080/"
        }
      },
      "execution_count": 14,
      "outputs": [
        {
          "output_type": "stream",
          "name": "stdout",
          "text": [
            "4440-鳳山順行\n",
            "    項次               車種車次 (始發站 → 終點站)   出發時間  終點站  \\\n",
            "0    1        區間3122  (  屏東  →  嘉義  )  05:17   嘉義   \n",
            "1    2        區間3128  (  潮州  →  后里  )  05:32   后里   \n",
            "2    3         自強108  (  潮州  →  七堵  )  05:51   七堵   \n",
            "3    4        區間3132  (  潮州  →  嘉義  )  06:04   嘉義   \n",
            "4    5      區間快3052  (  枋寮  →  新左營  )  06:17  新左營   \n",
            "..  ..                            ...    ...  ...   \n",
            "85  86       普悠瑪328  (  臺東  →  新左營  )  22:09  新左營   \n",
            "86  87        區間3292  (  潮州  →  臺南  )  22:20   臺南   \n",
            "87  88        區間3294  (  潮州  →  臺南  )  22:38   臺南   \n",
            "88  89  自強(3000)434  (  樹林  →  新左營  )  22:50  新左營   \n",
            "89  90       區間3348  (  枋寮  →  新左營  )  23:31  新左營   \n",
            "\n",
            "                                                 服務設施     狀態  \n",
            "0                                               每日行駛。     準點  \n",
            "1                                               每日行駛。     準點  \n",
            "2                                              逢週日停駛。  誤點 1分  \n",
            "3                                               每日行駛。  誤點 1分  \n",
            "4                                               每日行駛。     準點  \n",
            "..                                                ...    ...  \n",
            "85                     每日行駛。本班次不發售無座票，非持本班次車票旅客，請勿搭乘。    NaN  \n",
            "86                                              每日行駛。    NaN  \n",
            "87                                              每日行駛。    NaN  \n",
            "88  每日行駛。花蓮民眾實名優先購票班次，乘車時須準備登載個人身份證字號之證件。 本列次不發售無座...    NaN  \n",
            "89                                              每日行駛。    NaN  \n",
            "\n",
            "[90 rows x 6 columns]\n",
            "4440-鳳山逆行\n",
            "    Unnamed: 0          車種車次 (始發站 → 終點站)   出發時間 終點站  \\\n",
            "0            1    自強149  (  基隆  →  潮州  )  00:02  潮州   \n",
            "1            2   區間3287  (  后里  →  屏東  )  00:16  屏東   \n",
            "2            3    自強181  (  花蓮  →  屏東  )  00:27  屏東   \n",
            "3            4  普悠瑪333  (  新左營  →  臺東  )  05:20  臺東   \n",
            "4            5  區間3305  (  新左營  →  枋寮  )  06:03  枋寮   \n",
            "..         ...                       ...    ...  ..   \n",
            "87          88   區間3277  (  后里  →  潮州  )  22:48  潮州   \n",
            "88          89    莒光521  (  七堵  →  潮州  )  23:05  潮州   \n",
            "89          90   區間3271  (  民雄  →  潮州  )  23:13  潮州   \n",
            "90          91    自強145  (  七堵  →  潮州  )  23:32  潮州   \n",
            "91          92   區間3281  (  善化  →  潮州  )  23:41  潮州   \n",
            "\n",
            "                              服務設施     狀態  \n",
            "0                      每日行駛。在鳳山跨日。     準點  \n",
            "1                     每日行駛。在三塊厝跨日。     準點  \n",
            "2                     每日行駛。在新左營跨日。  誤點 8分  \n",
            "3   每日行駛。本班次不發售無座票，非持本班次車票旅客，請勿搭乘。     準點  \n",
            "4                            每日行駛。     準點  \n",
            "..                             ...    ...  \n",
            "87                           每日行駛。    NaN  \n",
            "88                           每日行駛。    NaN  \n",
            "89                           每日行駛。    NaN  \n",
            "90                    逢週日停駛。在潮州跨日。    NaN  \n",
            "91                     每日行駛。在歸來跨日。    NaN  \n",
            "\n",
            "[92 rows x 6 columns]\n",
            "5000-屏東順行\n",
            "    項次               車種車次 (始發站 → 終點站)   出發時間  終點站  \\\n",
            "0    1        區間3122  (  屏東  →  嘉義  )  05:17   嘉義   \n",
            "1    2        區間3128  (  潮州  →  后里  )  05:32   后里   \n",
            "2    3         自強108  (  潮州  →  七堵  )  05:51   七堵   \n",
            "3    4        區間3132  (  潮州  →  嘉義  )  06:04   嘉義   \n",
            "4    5      區間快3052  (  枋寮  →  新左營  )  06:17  新左營   \n",
            "..  ..                            ...    ...  ...   \n",
            "85  86       普悠瑪328  (  臺東  →  新左營  )  22:09  新左營   \n",
            "86  87        區間3292  (  潮州  →  臺南  )  22:20   臺南   \n",
            "87  88        區間3294  (  潮州  →  臺南  )  22:38   臺南   \n",
            "88  89  自強(3000)434  (  樹林  →  新左營  )  22:50  新左營   \n",
            "89  90       區間3348  (  枋寮  →  新左營  )  23:31  新左營   \n",
            "\n",
            "                                                 服務設施     狀態  \n",
            "0                                               每日行駛。     準點  \n",
            "1                                               每日行駛。     準點  \n",
            "2                                              逢週日停駛。  誤點 1分  \n",
            "3                                               每日行駛。  誤點 1分  \n",
            "4                                               每日行駛。     準點  \n",
            "..                                                ...    ...  \n",
            "85                     每日行駛。本班次不發售無座票，非持本班次車票旅客，請勿搭乘。    NaN  \n",
            "86                                              每日行駛。    NaN  \n",
            "87                                              每日行駛。    NaN  \n",
            "88  每日行駛。花蓮民眾實名優先購票班次，乘車時須準備登載個人身份證字號之證件。 本列次不發售無座...    NaN  \n",
            "89                                              每日行駛。    NaN  \n",
            "\n",
            "[90 rows x 6 columns]\n",
            "5000-屏東逆行\n",
            "    Unnamed: 0          車種車次 (始發站 → 終點站)   出發時間 終點站  \\\n",
            "0            1    自強149  (  基隆  →  潮州  )  00:02  潮州   \n",
            "1            2   區間3287  (  后里  →  屏東  )  00:16  屏東   \n",
            "2            3    自強181  (  花蓮  →  屏東  )  00:27  屏東   \n",
            "3            4  普悠瑪333  (  新左營  →  臺東  )  05:20  臺東   \n",
            "4            5  區間3305  (  新左營  →  枋寮  )  06:03  枋寮   \n",
            "..         ...                       ...    ...  ..   \n",
            "87          88   區間3277  (  后里  →  潮州  )  22:48  潮州   \n",
            "88          89    莒光521  (  七堵  →  潮州  )  23:05  潮州   \n",
            "89          90   區間3271  (  民雄  →  潮州  )  23:13  潮州   \n",
            "90          91    自強145  (  七堵  →  潮州  )  23:32  潮州   \n",
            "91          92   區間3281  (  善化  →  潮州  )  23:41  潮州   \n",
            "\n",
            "                              服務設施     狀態  \n",
            "0                      每日行駛。在鳳山跨日。     準點  \n",
            "1                     每日行駛。在三塊厝跨日。     準點  \n",
            "2                     每日行駛。在新左營跨日。  誤點 8分  \n",
            "3   每日行駛。本班次不發售無座票，非持本班次車票旅客，請勿搭乘。     準點  \n",
            "4                            每日行駛。     準點  \n",
            "..                             ...    ...  \n",
            "87                           每日行駛。    NaN  \n",
            "88                           每日行駛。    NaN  \n",
            "89                           每日行駛。    NaN  \n",
            "90                    逢週日停駛。在潮州跨日。    NaN  \n",
            "91                     每日行駛。在歸來跨日。    NaN  \n",
            "\n",
            "[92 rows x 6 columns]\n"
          ]
        }
      ]
    }
  ]
}