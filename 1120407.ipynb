{
  "nbformat": 4,
  "nbformat_minor": 0,
  "metadata": {
    "colab": {
      "provenance": [],
      "authorship_tag": "ABX9TyPwYfD4s+irFGcWFKBTWNpr",
      "include_colab_link": true
    },
    "kernelspec": {
      "name": "python3",
      "display_name": "Python 3"
    },
    "language_info": {
      "name": "python"
    }
  },
  "cells": [
    {
      "cell_type": "markdown",
      "metadata": {
        "id": "view-in-github",
        "colab_type": "text"
      },
      "source": [
        "<a href=\"https://colab.research.google.com/github/cubshuang/PythonPractice/blob/master/1120407.ipynb\" target=\"_parent\"><img src=\"https://colab.research.google.com/assets/colab-badge.svg\" alt=\"Open In Colab\"/></a>"
      ]
    },
    {
      "cell_type": "markdown",
      "source": [
        "台鐵火車時刻表依車站"
      ],
      "metadata": {
        "id": "NQjM2hSslDf7"
      }
    },
    {
      "cell_type": "code",
      "source": [
        "import pandas as pd\n",
        "import urllib.request as req\n",
        "import requests as reqs\n",
        "#from html.parser import HTMLParser\n",
        "\n",
        "\n",
        "url=\"https://tip.railway.gov.tw/tra-tip-web/tip/tip001/tip112/querybystationblank?rideDate=2023/04/08&station=4440-鳳山\"\n",
        "# url_NS\"https://tip.railway.gov.tw/tra-tip-web/tip/tip001/tip112/querybystationblank?rideDate=2023/04/10&station=5000-屏東\"\n",
        "\n",
        "response=reqs.get(url)\n",
        "tml_str = response.text\n",
        "#tml_str\n",
        "\n",
        "try:\n",
        "    tra = pd.read_html(tml_str)\n",
        "    # print(\"型態：\", type(tra))\n",
        "    # print(\"長度：\", len(tra))\n",
        "#tra\n",
        "    tra_1_df = tra[0]  #讀取第一個表格\n",
        "    tra_1_df.columns \n",
        "    print(tra_1_df.columns)\n",
        "    # t1=tra_1_df[tra_1_df['狀態'].notna()]\n",
        "    # print(t1)\n",
        "    # print(tra_1_df)\n",
        "except:    \n",
        "    print(\"讀取班表資料有誤\")\n",
        "\n"
      ],
      "metadata": {
        "id": "T2niYtT3lFF9",
        "colab": {
          "base_uri": "https://localhost:8080/"
        },
        "outputId": "3a79bbe0-8868-4ac7-d2fc-75d9b9dde8a9"
      },
      "execution_count": 1,
      "outputs": [
        {
          "output_type": "stream",
          "name": "stdout",
          "text": [
            "Index(['項次', '車種車次 (始發站 → 終點站)', '出發時間', '終點站', '服務設施', '狀態'], dtype='object')\n"
          ]
        }
      ]
    },
    {
      "cell_type": "code",
      "source": [
        "# t11 = tra_1_df[['車種車次 (始發站 → 終點站)','出發時間', '狀態']]\n",
        "# t11.rename(columns = {'車種車次 (始發站 → 終點站)':'車種車次'}, inplace = True)\n",
        "# print(t11)"
      ],
      "metadata": {
        "id": "ywOROZ7WXK4n"
      },
      "execution_count": null,
      "outputs": []
    },
    {
      "cell_type": "code",
      "source": [
        "from datetime import datetime\n",
        "#ss = [t11['車種車次'].str.split(' ').str[0],t11['出發時間'],t11['狀態']]\n",
        "# ss = pd.DataFrame({'車種車次':tra_1_df['車種車次 (始發站 → 終點站)'].str.split(' ').str[0]\n",
        "#                    ,'出發時間':tra_1_df['出發時間']\n",
        "#                    #,'出發時間1': datetime(2023, 4, 7, tra_1_df['出發時間'].str.split(':').str[0],tra_1_df['出發時間'].str.split(':').str[1] , 0)\n",
        "#                    ,'狀態':tra_1_df['狀態']\n",
        "#                    ,'服務設施':tra_1_df['服務設施']\n",
        "#                    })\n",
        "\n",
        "ss = tra_1_df['出發時間'].str.split(':').str[0]\n",
        "print(ss)\n",
        "\n",
        "#pd.concat([ss,t11])\n",
        "\n"
      ],
      "metadata": {
        "colab": {
          "base_uri": "https://localhost:8080/"
        },
        "id": "2C1rRcNnpFcH",
        "outputId": "f70200e6-cf8e-48a4-94b1-9e14220f2ac4"
      },
      "execution_count": 15,
      "outputs": [
        {
          "output_type": "stream",
          "name": "stdout",
          "text": [
            "0     05\n",
            "1     05\n",
            "2     05\n",
            "3     06\n",
            "4     06\n",
            "      ..\n",
            "85    22\n",
            "86    22\n",
            "87    22\n",
            "88    22\n",
            "89    23\n",
            "Name: 出發時間, Length: 90, dtype: object\n"
          ]
        }
      ]
    },
    {
      "cell_type": "code",
      "source": [
        "import pandas as pd\n",
        "import urllib.request as req\n",
        "import requests as reqs\n",
        "from datetime import date\n",
        "\n",
        "#處理日期\n",
        "dt_str = date.today().strftime(\"%Y/%m/%d\")\n",
        "\n",
        "st_North = \"4440-鳳山\"\n",
        "st_South = \"5000-屏東\"\n",
        "\n",
        "#dt_str = \"2023/04/10\"\n",
        "url_N=\"https://tip.railway.gov.tw/tra-tip-web/tip/tip001/tip112/querybystationblank?rideDate=\" + dt_str + \"&station=\" + st_North\n",
        "url_S=\"https://tip.railway.gov.tw/tra-tip-web/tip/tip001/tip112/querybystationblank?rideDate=\" + dt_str + \"&station=\" + st_South\n",
        "\n",
        "\n",
        "def transSch(tra):\n",
        "  return pd.DataFrame({\n",
        "          '車種車次':tra['車種車次 (始發站 → 終點站)'].str.split(' ').str[0]\n",
        "          ,'出發時間': pd.to_datetime(dt_str + ' '+ tra['出發時間']  + ':00', format='%Y/%m/%d %H:%M:%S')\n",
        "          ,'狀態':tra['狀態']\n",
        "          })\n",
        "\n",
        "\n",
        "#順行目的\n",
        "#逆行目的\n",
        "try:\n",
        "    # tra = pd.read_html(tml_str)\n",
        "    traN = pd.read_html(reqs.get(url_N).text)\n",
        "\n",
        "    traN_1 = traN[0]  #讀取第一個表格-順行\n",
        "    traN_2 = traN[1]  #讀取第二個表格-逆行\n",
        "    #轉換\n",
        "    traN_1 = pd.DataFrame({\n",
        "          '車種車次':traN_1['車種車次 (始發站 → 終點站)'].str.split(' ').str[0]\n",
        "          ,'出發時間': pd.to_datetime(dt_str + ' '+ traN_1['出發時間']  + ':00', format='%Y/%m/%d %H:%M:%S')\n",
        "          ,'狀態':traN_1['狀態']\n",
        "          })\n",
        "    print(traN_1)\n",
        "    #轉換\n",
        "    traN_2 = pd.DataFrame({\n",
        "          '車種車次':traN_2['車種車次 (始發站 → 終點站)'].str.split(' ').str[0]\n",
        "          ,'出發時間': pd.to_datetime(dt_str + ' '+ traN_2['出發時間']  + ':00', format='%Y/%m/%d %H:%M:%S')\n",
        "          ,'狀態':traN_2['狀態']\n",
        "          })\n",
        "\n",
        "    traS = pd.read_html(reqs.get(url_S).text)\n",
        "    traS_1 = traS[0]  #讀取第一個表格-順行\n",
        "    traS_2 = traS[1]  #讀取第二個表格-逆行\n",
        "    #轉換\n",
        "    traS_1 = pd.DataFrame({\n",
        "          '車種車次':traS_1['車種車次 (始發站 → 終點站)'].str.split(' ').str[0]\n",
        "          ,'出發時間': pd.to_datetime(dt_str + ' '+ traS_1['出發時間']  + ':00', format='%Y/%m/%d %H:%M:%S')\n",
        "          ,'狀態':traS_1['狀態']\n",
        "          })\n",
        "    #轉換\n",
        "    traS_2 = pd.DataFrame({\n",
        "          '車種車次':traS_2['車種車次 (始發站 → 終點站)'].str.split(' ').str[0]\n",
        "          ,'出發時間': pd.to_datetime(dt_str + ' '+ traS_2['出發時間']  + ':00', format='%Y/%m/%d %H:%M:%S')\n",
        "          ,'狀態':traS_2['狀態']\n",
        "          })\n",
        "    print(traN_1.columns)\n",
        "    print(traN_2.columns)\n",
        "    t1=tra_1_df[tra_1_df['狀態'].notna()]\n",
        "    print(t1)\n",
        "    print(st_North + \"順行\")\n",
        "    print(traN_1)\n",
        "    print(st_North + \"逆行\")\n",
        "    print(traN_2)\n",
        "    print(st_South + \"順行\")\n",
        "    print(traS_1)\n",
        "    print(st_South + \"逆行\")\n",
        "    print(traS_2)\n",
        "except:    \n",
        "    print(\"讀取班表資料有誤\")\n",
        "\n",
        "\n",
        "\n",
        "\n"
      ],
      "metadata": {
        "colab": {
          "base_uri": "https://localhost:8080/"
        },
        "id": "q9s655aZLNB4",
        "outputId": "348e3667-1f1c-424f-8452-eb13d001a46e"
      },
      "execution_count": 38,
      "outputs": [
        {
          "output_type": "stream",
          "name": "stdout",
          "text": [
            "           車種車次                出發時間     狀態\n",
            "0        區間3122 2023-04-10 05:17:00     準點\n",
            "1        區間3128 2023-04-10 05:32:00     準點\n",
            "2         自強108 2023-04-10 05:51:00  誤點 1分\n",
            "3        區間3132 2023-04-10 06:04:00  誤點 1分\n",
            "4       區間快3052 2023-04-10 06:17:00     準點\n",
            "..          ...                 ...    ...\n",
            "85       普悠瑪328 2023-04-10 22:09:00    NaN\n",
            "86       區間3292 2023-04-10 22:20:00    NaN\n",
            "87       區間3294 2023-04-10 22:38:00    NaN\n",
            "88  自強(3000)434 2023-04-10 22:50:00    NaN\n",
            "89       區間3348 2023-04-10 23:31:00    NaN\n",
            "\n",
            "[90 rows x 3 columns]\n",
            "Index(['車種車次', '出發時間', '狀態'], dtype='object')\n",
            "Index(['車種車次', '出發時間', '狀態'], dtype='object')\n",
            "    項次               車種車次 (始發站 → 終點站)   出發時間  終點站  \\\n",
            "0    1        區間3122  (  屏東  →  嘉義  )  05:17   嘉義   \n",
            "1    2        區間3128  (  潮州  →  后里  )  05:32   后里   \n",
            "2    3         自強108  (  潮州  →  七堵  )  05:51   七堵   \n",
            "3    4        區間3132  (  潮州  →  嘉義  )  06:04   嘉義   \n",
            "4    5      區間快3052  (  枋寮  →  新左營  )  06:17  新左營   \n",
            "5    6        區間3138  (  潮州  →  后里  )  06:27   后里   \n",
            "6    7         自強112  (  潮州  →  基隆  )  06:43   基隆   \n",
            "7    8       區間3140  (  潮州  →  新左營  )  06:56  新左營   \n",
            "8    9       區間快1006  (  潮州  →  七堵  )  07:14   七堵   \n",
            "9   10        區間3142  (  潮州  →  嘉義  )  07:17   嘉義   \n",
            "10  11      區間快3054  (  枋寮  →  新左營  )  07:28  新左營   \n",
            "11  12        區間3148  (  潮州  →  后里  )  07:38   后里   \n",
            "12  13        普悠瑪110  (  臺東  →  南港  )  07:47   南港   \n",
            "13  14         自強114  (  潮州  →  七堵  )  08:01   七堵   \n",
            "14  15        區間3152  (  潮州  →  嘉義  )  08:13   嘉義   \n",
            "15  16       區間3310  (  枋寮  →  新左營  )  08:20  新左營   \n",
            "16  17        區間3158  (  潮州  →  后里  )  08:34   后里   \n",
            "17  18      區間快3058  (  枋寮  →  新左營  )  08:42  新左營   \n",
            "18  19         自強116  (  屏東  →  七堵  )  09:01   七堵   \n",
            "19  20        區間3162  (  潮州  →  嘉義  )  09:09   嘉義   \n",
            "20  21      區間快3062  (  枋寮  →  新左營  )  09:32  新左營   \n",
            "21  22         自強192  (  潮州  →  花蓮  )  09:38   花蓮   \n",
            "22  23        區間3168  (  潮州  →  后里  )  09:42   后里   \n",
            "23  24         自強118  (  潮州  →  七堵  )  09:57   七堵   \n",
            "24  25        莒光702  (  臺東  →  新左營  )  10:05  新左營   \n",
            "25  26        區間3172  (  潮州  →  嘉義  )  10:18   嘉義   \n",
            "26  27      區間快3064  (  枋寮  →  新左營  )  10:32  新左營   \n",
            "27  28        區間3178  (  潮州  →  后里  )  10:43   后里   \n",
            "28  29  自強(3000)306  (  花蓮  →  新左營  )  10:55  新左營   \n",
            "29  30         自強172  (  潮州  →  花蓮  )  11:01   花蓮   \n",
            "30  31        區間3182  (  屏東  →  嘉義  )  11:09   嘉義   \n",
            "31  32        區間3188  (  潮州  →  后里  )  11:31   后里   \n",
            "\n",
            "                                                 服務設施     狀態  \n",
            "0                                               每日行駛。     準點  \n",
            "1                                               每日行駛。     準點  \n",
            "2                                              逢週日停駛。  誤點 1分  \n",
            "3                                               每日行駛。  誤點 1分  \n",
            "4                                               每日行駛。     準點  \n",
            "5                                               每日行駛。     準點  \n",
            "6   每日行駛。本班次第12車為親子車廂，不發售無座票，非持親子車廂車票旅客，或不符合親子、孕婦身...  誤點 1分  \n",
            "7                                               每日行駛。     準點  \n",
            "8                                               每日行駛。  誤點 1分  \n",
            "9                                               每日行駛。     準點  \n",
            "10                                              每日行駛。     準點  \n",
            "11                                             逢週六停駛。     準點  \n",
            "12  每日行駛。本班次不發售無座票，非持本班次車票旅客，請勿搭乘。 跨線普悠瑪(經南迴線)不發售團體票。     準點  \n",
            "13                                              每日行駛。     準點  \n",
            "14                                              每日行駛。     準點  \n",
            "15                                              每日行駛。     準點  \n",
            "16                                              每日行駛。     準點  \n",
            "17                                              每日行駛。     準點  \n",
            "18                                              每日行駛。     準點  \n",
            "19                                              每日行駛。     準點  \n",
            "20                                              每日行駛。     準點  \n",
            "21                      每日行駛。柴聯自強號，逢週一至週四票價97折(例假日除外)     準點  \n",
            "22                                              每日行駛。     準點  \n",
            "23                                              每日行駛。  誤點 1分  \n",
            "24                                              每日行駛。     準點  \n",
            "25                                              每日行駛。     準點  \n",
            "26                                              每日行駛。     準點  \n",
            "27                                              每日行駛。     準點  \n",
            "28  每日行駛。本列次不發售無座票，非持本班次車票旅客，請勿搭乘。 第6節為騰雲座艙，為本局公告指...     準點  \n",
            "29  每日行駛。本班次第12車為親子車廂，不發售無座票，非持親子車廂車票旅客，或不符合親子、孕婦身...     準點  \n",
            "30                                              每日行駛。     準點  \n",
            "31                                              每日行駛。     準點  \n",
            "4440-鳳山順行\n",
            "           車種車次                出發時間     狀態\n",
            "0        區間3122 2023-04-10 05:17:00     準點\n",
            "1        區間3128 2023-04-10 05:32:00     準點\n",
            "2         自強108 2023-04-10 05:51:00  誤點 1分\n",
            "3        區間3132 2023-04-10 06:04:00  誤點 1分\n",
            "4       區間快3052 2023-04-10 06:17:00     準點\n",
            "..          ...                 ...    ...\n",
            "85       普悠瑪328 2023-04-10 22:09:00    NaN\n",
            "86       區間3292 2023-04-10 22:20:00    NaN\n",
            "87       區間3294 2023-04-10 22:38:00    NaN\n",
            "88  自強(3000)434 2023-04-10 22:50:00    NaN\n",
            "89       區間3348 2023-04-10 23:31:00    NaN\n",
            "\n",
            "[90 rows x 3 columns]\n",
            "4440-鳳山逆行\n",
            "      車種車次                出發時間     狀態\n",
            "0    自強149 2023-04-10 00:02:00     準點\n",
            "1   區間3287 2023-04-10 00:16:00     準點\n",
            "2    自強181 2023-04-10 00:27:00  誤點 8分\n",
            "3   普悠瑪333 2023-04-10 05:20:00     準點\n",
            "4   區間3305 2023-04-10 06:03:00     準點\n",
            "..     ...                 ...    ...\n",
            "87  區間3277 2023-04-10 22:48:00    NaN\n",
            "88   莒光521 2023-04-10 23:05:00    NaN\n",
            "89  區間3271 2023-04-10 23:13:00    NaN\n",
            "90   自強145 2023-04-10 23:32:00    NaN\n",
            "91  區間3281 2023-04-10 23:41:00    NaN\n",
            "\n",
            "[92 rows x 3 columns]\n",
            "5000-屏東順行\n",
            "           車種車次                出發時間   狀態\n",
            "0        區間3122 2023-04-10 05:00:00   準點\n",
            "1        區間3128 2023-04-10 05:15:00   準點\n",
            "2         自強108 2023-04-10 05:36:00   準點\n",
            "3        區間3132 2023-04-10 05:47:00   準點\n",
            "4       區間快3052 2023-04-10 06:03:00   準點\n",
            "..          ...                 ...  ...\n",
            "88       普悠瑪328 2023-04-10 21:54:00  NaN\n",
            "89       區間3292 2023-04-10 22:03:00  NaN\n",
            "90       區間3294 2023-04-10 22:21:00  NaN\n",
            "91  自強(3000)434 2023-04-10 22:39:00  NaN\n",
            "92       區間3348 2023-04-10 23:14:00  NaN\n",
            "\n",
            "[93 rows x 3 columns]\n",
            "5000-屏東逆行\n",
            "      車種車次                出發時間     狀態\n",
            "0    自強149 2023-04-10 00:15:00     準點\n",
            "1   區間3287 2023-04-10 00:33:00     準點\n",
            "2    自強181 2023-04-10 00:40:00  誤點 7分\n",
            "3   普悠瑪333 2023-04-10 05:37:00  誤點 1分\n",
            "4   區間3305 2023-04-10 06:21:00     準點\n",
            "..     ...                 ...    ...\n",
            "90  區間3277 2023-04-10 23:05:00    NaN\n",
            "91   莒光521 2023-04-10 23:20:00    NaN\n",
            "92  區間3271 2023-04-10 23:30:00    NaN\n",
            "93   自強145 2023-04-10 23:48:00    NaN\n",
            "94  區間3281 2023-04-10 23:58:00    NaN\n",
            "\n",
            "[95 rows x 3 columns]\n"
          ]
        }
      ]
    },
    {
      "cell_type": "code",
      "source": [
        "ss = dt_str + ' '+ traN_1['出發時間']  + ':00'\n",
        "\n",
        "date_time_obj = datetime.strptime(ss[0], '%Y/%m/%d %H:%M:%S')\n",
        "print(\"The type of the date is now\",  type(date_time_obj))\n",
        "print(date_time_obj)\n",
        "# ss\n",
        "\n",
        "ff = pd.to_datetime(dt_str + ' '+ traN_1['出發時間']  + ':00', format='%Y/%m/%d %H:%M:%S')\n",
        "print(ff)\n"
      ],
      "metadata": {
        "id": "hjKDqb4CRUu7",
        "outputId": "20a739da-0bdd-4c49-857a-dcc22ed81444",
        "colab": {
          "base_uri": "https://localhost:8080/"
        }
      },
      "execution_count": 31,
      "outputs": [
        {
          "output_type": "stream",
          "name": "stdout",
          "text": [
            "The type of the date is now <class 'datetime.datetime'>\n",
            "2023-04-10 05:17:00\n",
            "0    2023-04-10 05:17:00\n",
            "1    2023-04-10 05:32:00\n",
            "2    2023-04-10 05:51:00\n",
            "3    2023-04-10 06:04:00\n",
            "4    2023-04-10 06:17:00\n",
            "             ...        \n",
            "85   2023-04-10 22:09:00\n",
            "86   2023-04-10 22:20:00\n",
            "87   2023-04-10 22:38:00\n",
            "88   2023-04-10 22:50:00\n",
            "89   2023-04-10 23:31:00\n",
            "Name: 出發時間, Length: 90, dtype: datetime64[ns]\n"
          ]
        }
      ]
    },
    {
      "cell_type": "code",
      "source": [
        "import pandas as pd\n",
        "import urllib.request as req\n",
        "import requests as reqs\n",
        "from datetime import date\n",
        "\n",
        "#處理日期\n",
        "dt_str = date.today().strftime(\"%Y/%m/%d\")\n",
        "\n",
        "st_North = \"4440-鳳山\"\n",
        "st_Middle = \"4450-後庄\"\n",
        "st_South = \"5000-屏東\"\n",
        "\n",
        "#dt_str = \"2023/04/10\"\n",
        "url_N=\"https://tip.railway.gov.tw/tra-tip-web/tip/tip001/tip112/querybystationblank?rideDate=\" + dt_str + \"&station=\" + st_North\n",
        "url_S=\"https://tip.railway.gov.tw/tra-tip-web/tip/tip001/tip112/querybystationblank?rideDate=\" + dt_str + \"&station=\" + st_South\n",
        "url_M=\"https://tip.railway.gov.tw/tra-tip-web/tip/tip001/tip112/querybystationblank?rideDate=\" + dt_str + \"&station=\" + st_Middle\n",
        "\n",
        "\n",
        "def transSch(tra):\n",
        "  return pd.DataFrame({\n",
        "          '車種車次':tra['車種車次 (始發站 → 終點站)'].str.split(' ').str[0]\n",
        "          ,'出發時間': pd.to_datetime(dt_str + ' '+ tra['出發時間']  + ':00', format='%Y/%m/%d %H:%M:%S')\n",
        "          #,'狀態':tra['狀態']\n",
        "          })\n",
        "#順行目的\n",
        "#逆行目的\n",
        "try:\n",
        "    # tra = pd.read_html(tml_str)\n",
        "    traNorth = pd.read_html(reqs.get(url_N).text)\n",
        "    traN_1 = transSch(traNorth[0])  #讀取第一個表格-順行\n",
        "    traN_2 = transSch(traNorth[1])  #讀取第二個表格-逆行\n",
        "\n",
        "    traMiddle = pd.read_html(reqs.get(url_M).text)\n",
        "    traM_1 = transSch(traMiddle[0])  #讀取第一個表格-順行\n",
        "    traM_2 = transSch(traMiddle[1])  #讀取第二個表格-逆行\n",
        "\n",
        "    traSouth = pd.read_html(reqs.get(url_S).text)\n",
        "    traS_1 = transSch(traSouth[0])  #讀取第一個表格-順行\n",
        "    traS_2 = transSch(traSouth[1])  #讀取第二個表格-逆行\n",
        "    \n",
        "    # print(st_North + \"順行\")\n",
        "    # print(traN_1)\n",
        "    # print(st_South + \"順行\")\n",
        "    # print(traS_1)\n",
        "    ##########\n",
        "    # print(st_North + \"逆行\")\n",
        "    # print(traN_2)\n",
        "    # print(st_South + \"逆行\")\n",
        "    # print(traS_2)\n",
        "except:    \n",
        "    print(\"讀取班表資料有誤\")\n"
      ],
      "metadata": {
        "id": "ulqgYSuLDdWG"
      },
      "execution_count": 2,
      "outputs": []
    },
    {
      "cell_type": "code",
      "source": [
        "# print(traN_1.head(1))\n",
        "# print(traS_1.head(1))\n",
        "\n",
        "# result = pd.concat([traN_1, traS_1],axis=1,join='outer')\n",
        "# print(result)\n",
        "\n",
        "# result = pd.concat([traN_1, traS_1],axis=1, join='outer',keys=[\"車種車次\"])\n",
        "# print(result)\n",
        "\n",
        "# outer join 將兩個車站的時間串起來\n",
        "\n",
        "# tra_1 = pd.merge(traN_1, traS_1, how='outer', on='車種車次')\n",
        "# tra_2 = pd.merge(traN_2, traS_2, how='outer', on='車種車次')\n",
        "\n",
        "\n",
        "# tra_1 = pd.merge(traN_1, traM_1, how='outer', on='車種車次')\n",
        "# print(tra_1)\n",
        "# tra_1 = pd.merge(tra_1, traS_1, how='outer', on='車種車次')\n",
        "# print(tra_1)\n",
        "\n",
        "traN_1.rename(columns = {'出發時間':'出發時間_3'}, inplace = True)\n",
        "traM_1.rename(columns = {'出發時間':'出發時間_2'}, inplace = True)\n",
        "traS_1.rename(columns = {'出發時間':'出發時間_1'}, inplace = True)\n",
        "\n",
        "traN_2.rename(columns = {'出發時間':'出發時間_1'}, inplace = True)\n",
        "traM_2.rename(columns = {'出發時間':'出發時間_2'}, inplace = True)\n",
        "traS_2.rename(columns = {'出發時間':'出發時間_3'}, inplace = True)\n",
        "\n",
        "\n",
        "tra_1 = traS_1.merge(traM_1, how='outer', on='車種車次').merge(traN_1, how='outer', on='車種車次')\n",
        "tra_2 = traN_2.merge(traM_2, how='outer', on='車種車次').merge(traS_2, how='outer', on='車種車次')\n",
        "\n",
        "# df3=traN_1.join(traS_1, lsuffix=\"_left\", rsuffix=\"_right\", how='outer')\n",
        "# print(df3)\n",
        "\n"
      ],
      "metadata": {
        "id": "Lz3onHQbGt04"
      },
      "execution_count": 3,
      "outputs": []
    },
    {
      "cell_type": "code",
      "source": [
        "# print(tra_1)\n",
        "# print(tra_2)\n",
        "\n",
        "print(st_South + \" =>\" + st_Middle+ \" =>\" + st_North)\n",
        "print(tra_1[tra_1[\"車種車次\"].isin(['區間3122','區間快3052','普悠瑪136'])])\n",
        "\n",
        "print(st_North + \" =>\" + st_Middle+ \" =>\" + st_South)\n",
        "print(tra_2[tra_2[\"車種車次\"].isin(['自強149','區間3287','普悠瑪127'])])\n",
        "\n",
        "# tra_1[tra_1[\"車種車次\"].isin(['區間3122','區間快3052','普悠瑪136'])]\n",
        "# print(mask)\n",
        "\n",
        "# tra_1.[mask==true]\n",
        "\n",
        "# tra_1[['區間3122','區間快3052','普悠瑪136']]\n",
        "\n",
        "# tra_2[['區間3287','自強145','普悠瑪127']]"
      ],
      "metadata": {
        "id": "f45vO-4h9c5X",
        "outputId": "e61bf9a8-3170-4152-a88a-99f036acc58f",
        "colab": {
          "base_uri": "https://localhost:8080/"
        }
      },
      "execution_count": 4,
      "outputs": [
        {
          "output_type": "stream",
          "name": "stdout",
          "text": [
            "5000-屏東 =>4450-後庄 =>4440-鳳山\n",
            "       車種車次              出發時間_1              出發時間_2              出發時間_3\n",
            "0    區間3122 2023-04-12 05:00:00 2023-04-12 05:12:00 2023-04-12 05:17:00\n",
            "4   區間快3052 2023-04-12 06:03:00                 NaT 2023-04-12 06:17:00\n",
            "52   普悠瑪136 2023-04-12 15:10:00                 NaT                 NaT\n",
            "4440-鳳山 =>4450-後庄 =>5000-屏東\n",
            "      車種車次              出發時間_1              出發時間_2              出發時間_3\n",
            "0    自強149 2023-04-12 00:02:00                 NaT 2023-04-12 00:15:00\n",
            "1   區間3287 2023-04-12 00:16:00 2023-04-12 00:20:00 2023-04-12 00:33:00\n",
            "93  普悠瑪127                 NaT                 NaT 2023-04-12 17:26:00\n"
          ]
        }
      ]
    },
    {
      "cell_type": "code",
      "source": [
        "print(tra_1.to_json(orient = 'columns')\n",
        "print(tra_2.to_json(orient = 'columns')"
      ],
      "metadata": {
        "id": "9Ge7jfAhsaWq",
        "outputId": "74ecb33e-5cef-487b-fc5c-4d41260708b4",
        "colab": {
          "base_uri": "https://localhost:8080/",
          "height": 132
        }
      },
      "execution_count": 5,
      "outputs": [
        {
          "output_type": "error",
          "ename": "SyntaxError",
          "evalue": "ignored",
          "traceback": [
            "\u001b[0;36m  File \u001b[0;32m\"<ipython-input-5-753a36030521>\"\u001b[0;36m, line \u001b[0;32m2\u001b[0m\n\u001b[0;31m    print(tra_2.to_json(orient = 'columns')\u001b[0m\n\u001b[0m    ^\u001b[0m\n\u001b[0;31mSyntaxError\u001b[0m\u001b[0;31m:\u001b[0m invalid syntax\n"
          ]
        }
      ]
    }
  ]
}