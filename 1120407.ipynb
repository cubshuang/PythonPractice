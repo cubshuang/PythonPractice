{
  "nbformat": 4,
  "nbformat_minor": 0,
  "metadata": {
    "colab": {
      "provenance": [],
      "authorship_tag": "ABX9TyNtzn22pyWTrvUpWZ6d9Xt5",
      "include_colab_link": true
    },
    "kernelspec": {
      "name": "python3",
      "display_name": "Python 3"
    },
    "language_info": {
      "name": "python"
    }
  },
  "cells": [
    {
      "cell_type": "markdown",
      "metadata": {
        "id": "view-in-github",
        "colab_type": "text"
      },
      "source": [
        "<a href=\"https://colab.research.google.com/github/cubshuang/PythonPractice/blob/master/1120407.ipynb\" target=\"_parent\"><img src=\"https://colab.research.google.com/assets/colab-badge.svg\" alt=\"Open In Colab\"/></a>"
      ]
    },
    {
      "cell_type": "markdown",
      "source": [
        "台鐵火車時刻表依車站"
      ],
      "metadata": {
        "id": "NQjM2hSslDf7"
      }
    },
    {
      "cell_type": "code",
      "source": [
        "import pandas as pd\n",
        "import urllib.request as req\n",
        "import requests as reqs\n",
        "#from html.parser import HTMLParser\n",
        "\n",
        "url=\"https://tip.railway.gov.tw/tra-tip-web/tip/tip001/tip112/querybystationblank?rideDate=2023/04/08&station=4440-鳳山\"\n",
        "response=reqs.get(url)\n",
        "tml_str = response.text\n",
        "#tml_str\n",
        "\n",
        "try:\n",
        "    tra = pd.read_html(tml_str)\n",
        "    # print(\"型態：\", type(tra))\n",
        "    # print(\"長度：\", len(tra))\n",
        "#tra\n",
        "    tra_1_df = tra[0]  #讀取第一個表格\n",
        "    tra_1_df.columns \n",
        "    print(tra_1_df.columns)\n",
        "    # t1=tra_1_df[tra_1_df['狀態'].notna()]\n",
        "    # print(t1)\n",
        "    # print(tra_1_df)\n",
        "except:    \n",
        "    print(\"讀取班表資料有誤\")\n",
        "\n"
      ],
      "metadata": {
        "id": "T2niYtT3lFF9",
        "colab": {
          "base_uri": "https://localhost:8080/"
        },
        "outputId": "61ec2d16-d419-4b31-f570-8b6fd8960208"
      },
      "execution_count": 6,
      "outputs": [
        {
          "output_type": "stream",
          "name": "stdout",
          "text": [
            "Index(['項次', '車種車次 (始發站 → 終點站)', '出發時間', '終點站', '服務設施', '狀態'], dtype='object')\n"
          ]
        }
      ]
    },
    {
      "cell_type": "code",
      "source": [
        "t11 = tra_1_df[['車種車次 (始發站 → 終點站)','出發時間', '狀態']]\n",
        "t11.rename(columns = {'車種車次 (始發站 → 終點站)':'車種車次'}, inplace = True)\n",
        "print(t11)"
      ],
      "metadata": {
        "colab": {
          "base_uri": "https://localhost:8080/"
        },
        "id": "ywOROZ7WXK4n",
        "outputId": "06300735-5d90-4f43-b9b9-e8eda01081b2"
      },
      "execution_count": 13,
      "outputs": [
        {
          "output_type": "stream",
          "name": "stdout",
          "text": [
            "                             車種車次   出發時間   狀態\n",
            "0         區間3122  (  屏東  →  嘉義  )  05:17   準點\n",
            "1         區間3128  (  潮州  →  后里  )  05:32   準點\n",
            "2          自強182  (  潮州  →  花蓮  )  05:41   準點\n",
            "3          自強108  (  潮州  →  七堵  )  05:51   準點\n",
            "4         區間3132  (  潮州  →  嘉義  )  06:04   準點\n",
            "..                            ...    ...  ...\n",
            "87       普悠瑪328  (  臺東  →  新左營  )  22:09  NaN\n",
            "88        區間3292  (  潮州  →  臺南  )  22:20  NaN\n",
            "89        區間3294  (  潮州  →  臺南  )  22:38  NaN\n",
            "90  自強(3000)434  (  樹林  →  新左營  )  22:50  NaN\n",
            "91       區間3348  (  枋寮  →  新左營  )  23:31  NaN\n",
            "\n",
            "[92 rows x 3 columns]\n"
          ]
        },
        {
          "output_type": "stream",
          "name": "stderr",
          "text": [
            "<ipython-input-13-7e9e57af666b>:2: SettingWithCopyWarning: \n",
            "A value is trying to be set on a copy of a slice from a DataFrame\n",
            "\n",
            "See the caveats in the documentation: https://pandas.pydata.org/pandas-docs/stable/user_guide/indexing.html#returning-a-view-versus-a-copy\n",
            "  t11.rename(columns = {'車種車次 (始發站 → 終點站)':'車種車次'}, inplace = True)\n"
          ]
        }
      ]
    },
    {
      "cell_type": "code",
      "source": [
        "#ss = [t11['車種車次'].str.split(' ').str[0],t11['出發時間'],t11['狀態']]\n",
        "ss = pd.DataFrame({'車種車次':t11['車種車次'].str.split(' ').str[0],'出發時間':t11['出發時間'],'狀態':t11['狀態']})\n",
        "print(ss)\n",
        "\n",
        "#pd.concat([ss,t11])\n",
        "\n"
      ],
      "metadata": {
        "colab": {
          "base_uri": "https://localhost:8080/"
        },
        "id": "2C1rRcNnpFcH",
        "outputId": "73cea77c-a8aa-4c4e-9226-9c4aecd6efd4"
      },
      "execution_count": 43,
      "outputs": [
        {
          "output_type": "stream",
          "name": "stdout",
          "text": [
            "           車種車次   出發時間   狀態\n",
            "0        區間3122  05:17   準點\n",
            "1        區間3128  05:32   準點\n",
            "2         自強182  05:41   準點\n",
            "3         自強108  05:51   準點\n",
            "4        區間3132  06:04   準點\n",
            "..          ...    ...  ...\n",
            "87       普悠瑪328  22:09  NaN\n",
            "88       區間3292  22:20  NaN\n",
            "89       區間3294  22:38  NaN\n",
            "90  自強(3000)434  22:50  NaN\n",
            "91       區間3348  23:31  NaN\n",
            "\n",
            "[92 rows x 3 columns]\n"
          ]
        }
      ]
    }
  ]
}