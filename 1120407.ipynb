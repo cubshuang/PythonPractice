{
  "nbformat": 4,
  "nbformat_minor": 0,
  "metadata": {
    "colab": {
      "provenance": [],
      "authorship_tag": "ABX9TyPMz17wd4D4+TCiDqZxvz9R",
      "include_colab_link": true
    },
    "kernelspec": {
      "name": "python3",
      "display_name": "Python 3"
    },
    "language_info": {
      "name": "python"
    }
  },
  "cells": [
    {
      "cell_type": "markdown",
      "metadata": {
        "id": "view-in-github",
        "colab_type": "text"
      },
      "source": [
        "<a href=\"https://colab.research.google.com/github/cubshuang/PythonPractice/blob/master/1120407.ipynb\" target=\"_parent\"><img src=\"https://colab.research.google.com/assets/colab-badge.svg\" alt=\"Open In Colab\"/></a>"
      ]
    },
    {
      "cell_type": "markdown",
      "source": [
        "台鐵火車時刻表依車站"
      ],
      "metadata": {
        "id": "NQjM2hSslDf7"
      }
    },
    {
      "cell_type": "code",
      "source": [
        "import pandas as pd\n",
        "import urllib.request as req\n",
        "import requests as reqs\n",
        "#from html.parser import HTMLParser\n",
        "\n",
        "url=\"https://tip.railway.gov.tw/tra-tip-web/tip/tip001/tip112/querybystationblank?rideDate=2023/03/26&station=4440-鳳山\"\n",
        "response=reqs.get(url)\n",
        "tml_str = response.text\n",
        "tml_str\n",
        "\n",
        "#tra = pd.read_html(tml_str)\n",
        "\n",
        "#print(\"型態：\", type(tra))\n",
        "#print(\"長度：\", len(tra))\n",
        "\n",
        "#tra\n",
        "#tra_1_df = tra[0]  #讀取第一個表格\n",
        "#tra_1_df.columns \n",
        "#print(tra_1_df)"
      ],
      "metadata": {
        "id": "T2niYtT3lFF9"
      },
      "execution_count": null,
      "outputs": []
    }
  ]
}